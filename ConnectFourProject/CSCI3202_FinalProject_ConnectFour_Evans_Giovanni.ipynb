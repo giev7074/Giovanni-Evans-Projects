{
 "cells": [
  {
   "cell_type": "markdown",
   "metadata": {},
   "source": [
    "---\n",
    "\n",
    "# CSCI 3202, Fall 2022\n",
    "# Final Project\n",
    "# Project Due: Thursday December 8, 2022 at 6:00 PM\n",
    "## Proposals Due: Friday November 18, 2022 at 6:00 PM\n"
   ]
  },
  {
   "cell_type": "markdown",
   "metadata": {},
   "source": [
    "You have two options for completing your final project for this course. \n",
    "\n",
    "#### Option 1 ####\n",
    "The first option is presented in this notebook and involves implementing a Connect Four game with AB pruning and A* as player strategies. \n",
    "\n",
    "#### Option 2 ####\n",
    "The second option is to design your own project that includes any of the algorithms we've discussed throughout the semester, or an algorithm that you're interested in learning that we haven't discussed in class. Your project also needs to include some kind of analysis of how it performed on a specific problem. If you're interested in the design your own project option, you need to discuss your idea with one of the course instructors to get approval. If you do a project without getting approval, you will receive a 0 regardless of the quality of the project. \n",
    "\n",
    "**The rules:**\n",
    "\n",
    "1. Choose EITHER the given problem to submit OR choose your own project topic. \n",
    "\n",
    "2. If you choose your own project topic, please adhere to the following guidelines:\n",
    "- Send an email to the course instructors before Friday, November 18 at 6pm, with a paragraph description of your project. We will respond within 24 hours with feedback.\n",
    "- The project can include an algorithm we've discussed throughout the semester or an algorithm that you're been curious to learn. Please don't recycle a project that you did in another class. \n",
    "- If you do your own project without prior approval, you will receive a 0 for this project.\n",
    "- Your project code, explanation, and results must all be contained in a Jupyter notebook. \n",
    "\n",
    "3. All work, code and analysis must be **your own**.\n",
    "4. You may use your course notes, posted lecture slides, textbook, in-class notebooks and homework solutions as resources.  You may also search online for answers to general knowledge questions, like the form of a probability distribution function, or how to perform a particular operation in Python. You may not use entire segments of code as solutions to any part of this project, e.g. if you find a Python implementation of policy iteration online, you can't use it.\n",
    "5. You may **not** post to message boards or other online resources asking for help.\n",
    "6. **You may not collaborate with classmates or anyone else.**\n",
    "7. This is meant to be like a coding portion of an exam. So, we will be much less helpful than we typically are with homework. For example, we will not check answers, help debug your code, and so on.\n",
    "8. If you have a question, post it first as a **private** Piazza message. If we decide that it is appropriate for the entire class, then we will make it a public post (and anonymous).\n",
    "9. If any part of the given project or your personal project is left open-ended, it is because we intend for you to code it up however you want. Our primary concern is with the plots/analysis that your code produces. Feel free to ask clarifying questions though.\n",
    "\n",
    "Violation of these rules will result in an **F** and a trip to the Honor Code council.\n",
    "\n",
    "---\n",
    "**By writing your name below, you agree to abide by these rules:**\n",
    "\n",
    "**Your name:** Giovanni Evans\n",
    "\n",
    "---\n"
   ]
  },
  {
   "cell_type": "markdown",
   "metadata": {},
   "source": [
    "---\n",
    "\n",
    "Some useful packages and libraries:\n",
    "\n"
   ]
  },
  {
   "cell_type": "code",
   "execution_count": 167,
   "metadata": {},
   "outputs": [],
   "source": [
    "import numpy as np\n",
    "import pandas as pd\n",
    "import matplotlib.pyplot as plt\n",
    "from matplotlib import colors\n",
    "from collections import deque\n",
    "import heapq\n",
    "import unittest\n",
    "from scipy import stats\n",
    "import copy as cp\n",
    "from time import time"
   ]
  },
  {
   "cell_type": "markdown",
   "metadata": {},
   "source": [
    "---\n",
    "\n",
    "## Problem 1: Game Theory - Playing \"intelligent\" Connect Four"
   ]
  },
  {
   "cell_type": "markdown",
   "metadata": {},
   "source": [
    "Connect Four is a two-player game where the objective is to get four pieces in a row - horizontally, vertically, or diagonally. Check out this video if you're unfamiliar with the game: https://www.youtube.com/watch?v=utXzIFEVPjA.\n",
    "\n",
    "### (1a)   Defining the Connect Four class structure\n",
    "\n",
    "We've provided the humble beginnings of a Connect Four game. You need to fill in this class structure for Connect Four using what we did during class as a guide, and then implement min-max search with AB pruning, and A* search with at least one heuristic function. The class structure includes the following:\n",
    "\n",
    "* `moves` is a list of columns to represent which moves are available. Recall that we are using matrix notation for this, where the upper-left corner of the board, for example, is represented at (1,1).\n",
    "* `result(self, move, state)` returns a ***hypothetical*** resulting `State` object if `move` is made when the game is in the current `state`. Note that when a 'move' is made, the column must have an open slot and the piece must drop to the lowest row. \n",
    "* `compute_utility(self, move, state)` calculates the utility of `state` that would result if `move` is made when the game is in the current `state`. This is where you want to check to see if anyone has gotten `nwin` in a row\n",
    "* `game_over(self, state)` returns `True` if the game in the given `state` has reached a terminal state, and `False` otherwise.\n",
    "* `utility(self, state, player)` returns the utility of the current state if the player is Red and $-1 \\cdot$ utility if the player is Black.\n",
    "* `display(self)` is a method to display the current game `state`. You get it for free because this would be super frustrating without it.\n",
    "* `play_game(self, player1, player2)` returns an integer that is the utility of the outcome of the game (+1 if Red wins, 0 if draw, -1 if Black wins). `player1` and `player2` are functional arguments that we will deal with in parts **1b** and **1d**.\n",
    "\n",
    "Some notes:\n",
    "* Assume Red always goes first.\n",
    "* Do **not** hard-code for 6x7 boards.\n",
    "* You may add attributes and methods to these classes as needed for this problem."
   ]
  },
  {
   "cell_type": "code",
   "execution_count": 168,
   "metadata": {},
   "outputs": [],
   "source": [
    "class State:\n",
    "    def __init__(self, moves):\n",
    "        self.to_move = 'R'\n",
    "        self.utility = 0\n",
    "        self.board = {}\n",
    "        for i in moves:\n",
    "            self.board[i] ='•'\n",
    "        self.moves = moves\n",
    "\n",
    "class ConnectFour:\n",
    "    def __init__(self, nrow=6, ncol=7, nwin=4):\n",
    "        self.nrow = nrow\n",
    "        self.ncol = ncol\n",
    "        self.nwin = nwin\n",
    "        moves = [(row,col) for row in range(1, nrow + 1) for col in range(1, ncol + 1)]\n",
    "        self.state = State(moves)\n",
    "\n",
    "    def result(self, move, state):\n",
    "        '''\n",
    "        What is the hypothetical result of move `move` in state `state` ?\n",
    "        move  = (row, col) tuple where player will put their mark (R or B)\n",
    "        state = a `State` object, to represent whose turn it is and form\n",
    "                the basis for generating a **hypothetical** updated state\n",
    "                that will result from making the given `move`\n",
    "        '''\n",
    "        # your code goes here...\n",
    "        if move not in state.moves:\n",
    "            return state\n",
    "        \n",
    "        new_state = cp.deepcopy(state)\n",
    "        new_state.utility = self.compute_utility(move, state)\n",
    "        new_state.board[move] = state.to_move\n",
    "        new_state.moves.remove(move)\n",
    "        new_state.to_move = ('B' if state.to_move=='R' else 'R')\n",
    "        return new_state\n",
    "\n",
    "    def compute_utility(self, move, state):\n",
    "        '''\n",
    "        What is the utility of making move `move` in state `state`?\n",
    "        If 'R' wins with this move, return 1;\n",
    "        if 'B' wins return -1;\n",
    "        else return 0.\n",
    "        '''        \n",
    "        # your code goes here...\n",
    "        row, col = move\n",
    "        player = state.to_move\n",
    "        \n",
    "        # create a hypothetical copy of the board, with 'move' executed\n",
    "        board = cp.deepcopy(state.board)\n",
    "        board.update({move:player})   \n",
    "            \n",
    "        #check for row win\n",
    "        in_a_row = 0\n",
    "        for c in range(1, self.ncol-(self.nwin-2)):\n",
    "            for r in range(1, self.nrow+1):\n",
    "                count = 0\n",
    "                for i in range(self.nwin):\n",
    "                    if board[(r,c+i)] == player:\n",
    "                        count += 1\n",
    "                if count == self.nwin:    \n",
    "                    in_a_row = self.nwin    \n",
    "        \n",
    "        #check for column win\n",
    "        in_a_col = 0\n",
    "        for c in range(1, self.ncol +1):\n",
    "            for r in range(1, self.nrow-(self.nwin-2)):\n",
    "                count = 0\n",
    "                for i in range(self.nwin):\n",
    "                    if board[(r+i,c)] == player:\n",
    "                        count += 1\n",
    "                if count == self.nwin:    \n",
    "                    in_a_col = self.nwin \n",
    "\n",
    "        # check for NW->SE diagonal win\n",
    "        in_a_diag1 = 0\n",
    "        for c in range(1, self.ncol-(self.nwin-2)):\n",
    "            for r in range(1, self.nrow-(self.nwin-2)):\n",
    "                count = 0\n",
    "                for i in range(self.nwin):\n",
    "                    if board[(r+i,c+i)] == player:\n",
    "                        count += 1\n",
    "                if count == self.nwin:    \n",
    "                    in_a_diag1 = self.nwin \n",
    "                    \n",
    "                    \n",
    "        \n",
    "\n",
    "        # check for SW->NE diagonal win\n",
    "        in_a_diag2 = 0           \n",
    "        for c in range(1, self.ncol-(self.nwin-2)):\n",
    "            for r in range(self.nwin, self.nrow+1):\n",
    "                count = 0\n",
    "                for i in range(self.nwin-1):\n",
    "                    if board[(r-i,c+i)] == player:\n",
    "                        count += 1\n",
    "                if count == self.nwin:    \n",
    "                    in_a_diag2 = self.nwin            \n",
    "                    \n",
    "         \n",
    "        if self.nwin in [in_a_row, in_a_col, in_a_diag1, in_a_diag2]:\n",
    "            #print(\"in a row: \",in_a_row, \" in a col: \", in_a_col, \" in a NW->SE diag: \", in_a_diag1, \" in a SW->NE diag: \",in_a_diag2)\n",
    "            return 1 if player=='R' else -1\n",
    "        else:\n",
    "            return 0 \n",
    "    \n",
    "\n",
    "    def game_over(self, state):\n",
    "        '''game is over if someone has won (utility!=0) or there\n",
    "        are no more moves left'''\n",
    "        # your code goes here...  \n",
    "        #print(\"total empty spaces: \", state.moves)\n",
    "        #print(len(state.moves))\n",
    "        return state.utility!=0 or len(state.moves)==0\n",
    "\n",
    "    def utility(self, state, player):\n",
    "        '''Return the value to player; 1 for win, -1 for loss, 0 otherwise.'''\n",
    "        # your code goes here...\n",
    "        return state.utility if player=='R' else -state.utility\n",
    "\n",
    "    def display(self):\n",
    "        board = self.state.board\n",
    "        for row in range(1, self.nrow + 1):\n",
    "            for col in range(1, self.ncol + 1):\n",
    "                print(board.get((row, col), '.'), end=' ')\n",
    "            print()\n",
    "\n",
    "    def play_game_with_display(self, player1, player2):\n",
    "        '''Play a game of Connect Four!'''\n",
    "        # your code goes here...\n",
    "        turn_limit = self.nrow*self.ncol  # limit in case of buggy code\n",
    "        turn = 0\n",
    "        while turn<=turn_limit:\n",
    "            for player in [player1, player2]:\n",
    "                turn += 1\n",
    "                move = player(self)\n",
    "                self.state = self.result(move, self.state)\n",
    "                if self.game_over(self.state):\n",
    "                    self.display()\n",
    "                    return self.state.utility\n",
    "                \n",
    "    def play_game_without_display(self, player1, player2):\n",
    "        '''Play a game of Connect Four!'''\n",
    "        # your code goes here...\n",
    "        turn_limit = self.nrow*self.ncol  # limit in case of buggy code\n",
    "        turn = 0\n",
    "        while turn<=turn_limit:\n",
    "            for player in [player1, player2]:\n",
    "                turn += 1\n",
    "                move = player(self)\n",
    "                self.state = self.result(move, self.state)\n",
    "                if self.game_over(self.state):\n",
    "                    #self.display()\n",
    "                    return self.state.utility\n",
    "    \n",
    "    def possible_actions(self, state):\n",
    "        possible_actions = []\n",
    "        for c in range(1,self.ncol + 1):\n",
    "            minr = 200\n",
    "            for r in range(1,self.nrow + 1):\n",
    "                if (r,c) in state.moves:\n",
    "                    r < minr\n",
    "                    minr = r\n",
    "            if minr != 200:\n",
    "                possible_actions.append((minr,c))\n",
    "        return possible_actions\n",
    "        \n",
    "                "
   ]
  },
  {
   "cell_type": "markdown",
   "metadata": {},
   "source": [
    "### (1b) Define a random player\n",
    "\n",
    "Define a function `random_player` that takes a single argument of the `ConnectFour` class and returns a random move out of the available legal moves in the `state` of the `ConnectFour` game.\n",
    "\n",
    "In your code for the `play_game` method above, make sure that `random_player` could be a viable input for the `player1` and/or `player2` arguments."
   ]
  },
  {
   "cell_type": "code",
   "execution_count": 169,
   "metadata": {},
   "outputs": [],
   "source": [
    "def random_player(game):\n",
    "    '''A player that chooses a legal move at random out of all\n",
    "    available legal moves in ConnectFour state argument'''\n",
    "    # your code goes here...\n",
    "    possible_actions = []\n",
    "    for c in range(1,game.ncol + 1):\n",
    "        minr = 200\n",
    "        for r in range(1,game.nrow + 1):\n",
    "            if (r,c) in game.state.moves:\n",
    "                r < minr\n",
    "                minr = r\n",
    "        if minr != 200:\n",
    "            possible_actions.append((minr,c))\n",
    "    #print(\"total possible moves: \", possible_actions)\n",
    "    return possible_actions[np.random.randint(low=0, high=len(possible_actions))]"
   ]
  },
  {
   "cell_type": "markdown",
   "metadata": {},
   "source": [
    "We know from experience and/or because I'm telling you right now that if two `random_player`s play many games of ConnectFour against one another, whoever goes first will win about 55% of the time.  Verify that this is the case by playing at least 1,000 games between two random players. Report the proportion of the games that the first player has won.**(Chris: is this true for TicTacToe, or Connect Four)**\n",
    "\n",
    "**\"Unit tests\":** If you are wondering how close is close enough to 55%, I simulated 100 tournaments of 1,000 games each. The min-max range of win percentage by the first player was 52-59%."
   ]
  },
  {
   "cell_type": "code",
   "execution_count": 238,
   "metadata": {
    "scrolled": true
   },
   "outputs": [
    {
     "name": "stdout",
     "output_type": "stream",
     "text": [
      "6 x 7 with nwin = 4\n",
      "First-player winning percentage = 0.521\n",
      "wins:  521  losses:  471  draws:  8\n",
      "• • R • • • • \n",
      "• • B R • • • \n",
      "• • R B R B • \n",
      "• B B R R R B \n",
      "• B R R R B B \n",
      "• R B B R B R \n"
     ]
    },
    {
     "data": {
      "text/plain": [
       "1"
      ]
     },
     "execution_count": 238,
     "metadata": {},
     "output_type": "execute_result"
    }
   ],
   "source": [
    "# 1000 games between two random players with rows = 6, columns = 7, win condtion = 4\n",
    "\n",
    "niter = 1000\n",
    "wins = 0\n",
    "draws = 0\n",
    "losses = 0\n",
    "for k in range(niter):\n",
    "    cf = ConnectFour()\n",
    "    outcome = cf.play_game_without_display(random_player, random_player)\n",
    "    if outcome==1:\n",
    "        wins += 1\n",
    "    elif outcome==-1:\n",
    "        losses += 1\n",
    "    else:\n",
    "        draws += 1\n",
    "\n",
    "print(\"6 x 7 with nwin = 4\")\n",
    "print('First-player winning percentage = {}'.format(wins/niter))\n",
    "print(\"wins: \",wins, \" losses: \",losses,\" draws: \", draws)\n",
    "\n",
    "\n",
    "# Your code here\n",
    "cf = ConnectFour()\n",
    "outcome = cf.play_game_with_display(random_player, random_player)\n",
    "outcome\n"
   ]
  },
  {
   "cell_type": "markdown",
   "metadata": {},
   "source": [
    "### (1c) What about playing randomly on different-sized boards?\n",
    "\n",
    "What does the long-term win percentage appear to be for the first player in a 10x10 ConnectFour tournament, where 4 marks must be connected for a win?  Support your answer using a simulation and printed output, similar to **1b**.\n",
    "\n",
    "**Also:** The win percentage should have changed substantially. Did the decrease in wins turn into more losses for the first player or more draws? Write a few sentences explaining the behavior you observed.  *Hint: think about how the size of the state space has changed.*"
   ]
  },
  {
   "cell_type": "markdown",
   "metadata": {},
   "source": [
    "When the board is set to 10x10 where 4 marks must be connected for a win, the player who goes first still wins 55% of the time. However when the board is set to a 10x10 with a win condition of 6, the player who goes first wins about the same amount of times as the player who goes second, both having a win percentage of around 44%. Additionally, the number of ties shoots up to around 12% of the time. The win percentage going down substantually when the board is expanded to 10x10 and the win condition changed to 6 makes sense because the state apces got much larger and thus there are far more moves each player can make to win the game. When the board was 6x7, the player who went first won 55% of the time because the limited state space gave an advantage to the first player. Additionally, there are far more ways to win in the 10x10 baord in compairson to the 4x4 board. In the 4x4 board, the win condition divided by the number of columns times the number of rows is 4/16 = 1/4. In the 10x10 board, the win condition divided by the number of columns times the number of rows is 6/100. \n",
    "\n",
    "(10x10 with nwin=4 below, 10x10 with nwin=6 also below) "
   ]
  },
  {
   "cell_type": "code",
   "execution_count": 240,
   "metadata": {},
   "outputs": [
    {
     "name": "stdout",
     "output_type": "stream",
     "text": [
      "10 x 10 with nwin = 4\n",
      "First-player winning percentage = 0.555\n",
      "wins:  555  losses:  445  draws:  0\n"
     ]
    }
   ],
   "source": [
    "# 1000 games between two random players with rows = 10, columns = 10, win condtion = 4\n",
    "\n",
    "niter = 1000\n",
    "wins = 0\n",
    "draws = 0\n",
    "losses = 0\n",
    "for k in range(niter):\n",
    "    cf3 = ConnectFour(10,10)\n",
    "    outcome3 = cf3.play_game_without_display(random_player, random_player)\n",
    "    if outcome3==1:\n",
    "        wins += 1\n",
    "    elif outcome3==-1:\n",
    "        losses += 1\n",
    "    else:\n",
    "        draws += 1\n",
    "        \n",
    "print(\"10 x 10 with nwin = 4\")\n",
    "print('First-player winning percentage = {}'.format(wins/niter))\n",
    "print(\"wins: \",wins, \" losses: \",losses,\" draws: \", draws)\n"
   ]
  },
  {
   "cell_type": "code",
   "execution_count": 242,
   "metadata": {
    "scrolled": true
   },
   "outputs": [
    {
     "name": "stdout",
     "output_type": "stream",
     "text": [
      "10 x 10 with nwin = 6\n",
      "First-player winning percentage = 0.438\n",
      "wins:  219  losses:  215  draws:  66\n"
     ]
    }
   ],
   "source": [
    "# 1000 games between two random players with rows = 10, columns = 10, win condtion = 6\n",
    "\n",
    "niter = 500\n",
    "wins = 0\n",
    "draws = 0\n",
    "losses = 0\n",
    "for k in range(niter):\n",
    "    cf10x10 = ConnectFour(10,10,6)\n",
    "    outcome2 = cf10x10.play_game_without_display(random_player, random_player)\n",
    "    if outcome2==1:\n",
    "        wins += 1\n",
    "    elif outcome2==-1:\n",
    "        losses += 1\n",
    "    else:\n",
    "        draws += 1\n",
    "        \n",
    "print(\"10 x 10 with nwin = 6\")\n",
    "print('First-player winning percentage = {}'.format(wins/niter))\n",
    "print(\"wins: \",wins, \" losses: \",losses,\" draws: \", draws)\n",
    "\n",
    "# Your code here\n",
    "#cf10x10 = ConnectFour(10,10,6)\n",
    "#outcome2 = cf10x10.play_game_with_display(random_player, random_player)\n",
    "#outcome2\n"
   ]
  },
  {
   "cell_type": "markdown",
   "metadata": {},
   "source": [
    "### (1d) Define an alpha-beta player\n",
    "\n",
    "Alright. Let's finally get serious about our Connect Four game.  No more fooling around!\n",
    "\n",
    "Craft a function called `alphabeta_player` that takes a single argument of a `ConnectFour` class object and returns the minimax move in the `state` of the `ConnectFour` game. As the name implies, this player should be implementing alpha-beta pruning as described in the textbook and lecture.\n",
    "\n",
    "Note that your alpha-beta search for the minimax move should include function definitions for `max_value` and `min_value` (see the aggressively realistic pseudocode from the lecture slides).\n",
    "\n",
    "In your code for the `play_game` method above, make sure that `alphabeta_player` could be a viable input for the `player1` and/or `player2` arguments."
   ]
  },
  {
   "cell_type": "code",
   "execution_count": 223,
   "metadata": {},
   "outputs": [],
   "source": [
    "i = 0\n",
    "def increment():\n",
    "    global i\n",
    "    i += 1\n",
    "    \n",
    "def reset():\n",
    "    global i \n",
    "    i = 0\n",
    "\n",
    "def alphabeta_player_max(game): #max player without pruning\n",
    "        \n",
    "    def min_value(state):\n",
    "        #print(game.game_over(state))\n",
    "        increment()\n",
    "        if game.game_over(state):\n",
    "            return game.utility(state, state.to_move)\n",
    "        value = np.inf\n",
    "        for action in game.possible_actions(state):\n",
    "            #print(i)\n",
    "            value = min(value, max_value(game.result(action, state)))\n",
    "        return value\n",
    "\n",
    "    def max_value(state):\n",
    "        #print(game.game_over(state))\n",
    "        increment()\n",
    "        if game.game_over(state):\n",
    "            return game.utility(state, state.to_move)\n",
    "        value = -np.inf\n",
    "        for action in game.possible_actions(state):\n",
    "            value = max(value, min_value(game.result(action, state)))\n",
    "        return value\n",
    "\n",
    "    def minimax_decision(state):\n",
    "        all_actions = game.possible_actions(state)\n",
    "        max_action = max(all_actions, key=lambda a: min_value(game.result(a, game.state)))\n",
    "        return max_action\n",
    "    \n",
    "    #print(i)    \n",
    "    return minimax_decision(game.state)\n",
    "\n",
    "\n",
    "def alphabeta_player_min(game): #min player without pruning\n",
    "\n",
    "    def min_value(state):\n",
    "        #print(game.game_over(state))\n",
    "        if game.game_over(state):\n",
    "            return game.utility(state, state.to_move)\n",
    "        value = np.inf\n",
    "        for action in game.possible_actions(state):\n",
    "            value = min(value, max_value(game.result(action, state)))\n",
    "        return value\n",
    "\n",
    "    def max_value(state):\n",
    "        #print(game.game_over(state))\n",
    "        if game.game_over(state):\n",
    "            return game.utility(state, state.to_move)\n",
    "        value = -np.inf\n",
    "        for action in game.possible_actions(state):\n",
    "            value = max(value, min_value(game.result(action, state)))\n",
    "        return value\n",
    "\n",
    "    def minimax_decision(state):\n",
    "        all_actions = game.possible_actions(state)\n",
    "        max_action = max(all_actions, key=lambda a: max_value(game.result(a, game.state)))\n",
    "        return max_action\n",
    "        \n",
    "    return minimax_decision(game.state)\n",
    "    \n",
    "    \n",
    "def alpha_beta_pruning(game): #alpha beta player with pruning\n",
    "        \n",
    "    def min_value(state, alpha, beta):\n",
    "        increment()\n",
    "        if game.game_over(state):\n",
    "            return game.utility(state, state.to_move)\n",
    "        value = np.inf\n",
    "        for action in game.possible_actions(state):\n",
    "            value = min(value, max_value(game.result(action, state), alpha, beta))\n",
    "            if value <= alpha: \n",
    "                return value\n",
    "            beta = min(value, beta)\n",
    "        return value\n",
    "\n",
    "    def max_value(state, alpha, beta):\n",
    "        increment()\n",
    "        if game.game_over(state):\n",
    "            return game.utility(state, state.to_move)\n",
    "        value = -np.inf\n",
    "        for action in game.possible_actions(state):\n",
    "            value = max(value, min_value(game.result(action, state), alpha, beta))\n",
    "            if value >= beta:\n",
    "                return value\n",
    "            alpha = max(value, alpha)\n",
    "        return value\n",
    "\n",
    "    def alpha_beta_decision(state):\n",
    "        alpha = -np.inf\n",
    "        beta = np.inf\n",
    "        value = max(state.utility, alpha, beta)\n",
    "        all_actions = game.possible_actions(state)\n",
    "        maxV = 0\n",
    "        maxAction = game.possible_actions(state)[0]\n",
    "        for a in all_actions:\n",
    "            if min_value(game.result(a, game.state), alpha, beta) > maxV:\n",
    "                maxAction = a\n",
    "                maxV = min_value(game.result(a, game.state), alpha, beta)\n",
    "    return alpha_beta_decision(game.state)"
   ]
  },
  {
   "cell_type": "markdown",
   "metadata": {},
   "source": [
    "Verify that your alpha-beta player code is working appropriately through the following tests, using a standard 6x7 ConnectFour board. Run **10 games for each test**, and track the number of wins, draws and losses. Report these results for each case.\n",
    "\n",
    "1. An alpha-beta player who plays first should never lose to a random player who plays second.\n",
    "2. Two alpha-beta players should always draw. One player is the max player and the other player is the min player.\n",
    "\n",
    "**Nota bene:** Test your code with fewer games between the players to start, because the alpha-beta player will require substantially more compute time than the random player.  This is why I only ask for 10 games, which still might take a minute or two. You are welcome to run more than 10 tests if you'd like. "
   ]
  },
  {
   "cell_type": "code",
   "execution_count": 225,
   "metadata": {},
   "outputs": [
    {
     "name": "stdout",
     "output_type": "stream",
     "text": [
      "max alpha beta player going first against random player\n",
      "First-player winning percentage = 0.4\n",
      "wins:  4  losses:  0  draws:  6\n"
     ]
    }
   ],
   "source": [
    "#without pruning, this process takes extremely long with a 3x4 board, however a 3x3 board works quickly\n",
    "niter = 10\n",
    "wins = 0\n",
    "draws = 0\n",
    "losses = 0\n",
    "for k in range(niter):\n",
    "    cf4 = ConnectFour(3,3,3)\n",
    "    outcome4 = cf4.play_game_without_display(alphabeta_player_max, random_player)\n",
    "    if outcome4==1:\n",
    "        wins += 1\n",
    "    elif outcome4==-1:\n",
    "        losses += 1\n",
    "    else:\n",
    "        draws += 1\n",
    "        \n",
    "print(\"max alpha beta player going first against random player\")\n",
    "print('First-player winning percentage = {}'.format(wins/niter))\n",
    "print(\"wins: \",wins, \" losses: \",losses,\" draws: \", draws)\n",
    "\n",
    "#cf4 = ConnectFour(3,3,3)\n",
    "#outcome4 = cf4.play_game_with_display(alphabeta_player, random_player)\n",
    "#outcome4\n"
   ]
  },
  {
   "cell_type": "code",
   "execution_count": 226,
   "metadata": {},
   "outputs": [
    {
     "name": "stdout",
     "output_type": "stream",
     "text": [
      "max alpha beta player .vs. min alpha beta player\n",
      "First-player winning percentage = 0.0\n",
      "wins:  0  losses:  0  draws:  10\n"
     ]
    }
   ],
   "source": [
    "#without pruning, this process takes extremely long with a 3x4 board since it always ends in a tie, however a 3x3 board works quickly\n",
    "#below when I include pruning I use 3x4 board\n",
    "niter = 10\n",
    "wins = 0\n",
    "draws = 0\n",
    "losses = 0\n",
    "for k in range(niter):\n",
    "    cf4 = ConnectFour(3,3,3)\n",
    "    outcome4 = cf4.play_game_without_display(alphabeta_player_max, alphabeta_player_min)\n",
    "    if outcome4==1:\n",
    "        wins += 1\n",
    "    elif outcome4==-1:\n",
    "        losses += 1\n",
    "    else:\n",
    "        draws += 1\n",
    "        \n",
    "print(\"max alpha beta player .vs. min alpha beta player\")\n",
    "print('First-player winning percentage = {}'.format(wins/niter))\n",
    "print(\"wins: \",wins, \" losses: \",losses,\" draws: \", draws)\n",
    "\n",
    "\n",
    "#cf4 = ConnectFour(3,3,3)\n",
    "#outcome4 = cf4.play_game_with_display(alphabeta_player_max, alphabeta_player_min)\n",
    "#outcome4"
   ]
  },
  {
   "cell_type": "code",
   "execution_count": 227,
   "metadata": {},
   "outputs": [
    {
     "name": "stdout",
     "output_type": "stream",
     "text": [
      "alpha beta player with pruning .vs. random player\n",
      "First-player winning percentage = 0.2\n",
      "wins:  2  losses:  0  draws:  8\n"
     ]
    }
   ],
   "source": [
    "niter = 10\n",
    "wins = 0\n",
    "draws = 0\n",
    "losses = 0\n",
    "for k in range(niter):\n",
    "    cf_prune = ConnectFour(3,4,3)\n",
    "    outcome_prune = cf_prune.play_game_without_display(alpha_beta_pruning, random_player)\n",
    "    if outcome_prune==1:\n",
    "        wins += 1\n",
    "    elif outcome_prune==-1:\n",
    "        losses += 1\n",
    "    else:\n",
    "        draws += 1\n",
    "        \n",
    "print(\"alpha beta player with pruning .vs. random player\")\n",
    "print('First-player winning percentage = {}'.format(wins/niter))\n",
    "print(\"wins: \",wins, \" losses: \",losses,\" draws: \", draws)\n",
    "\n",
    "\n",
    "#cf_prune = ConnectFour(3,3,3)\n",
    "#outcome_prune = cf_prune.play_game_with_display(alpha_beta_pruning, random_player)\n",
    "#outcome_prune"
   ]
  },
  {
   "cell_type": "code",
   "execution_count": 228,
   "metadata": {},
   "outputs": [
    {
     "name": "stdout",
     "output_type": "stream",
     "text": [
      "alpha beta player with pruning .vs. alpha beta player with pruning\n",
      "First-player winning percentage = 0.0\n",
      "wins:  0  losses:  0  draws:  10\n"
     ]
    }
   ],
   "source": [
    "niter = 10\n",
    "wins = 0\n",
    "draws = 0\n",
    "losses = 0\n",
    "for k in range(niter):\n",
    "    cf_prune2 = ConnectFour(3,4,3)\n",
    "    outcome_prune2 = cf_prune2.play_game_without_display(alpha_beta_pruning, alpha_beta_pruning)\n",
    "    if outcome_prune2==1:\n",
    "        wins += 1\n",
    "    elif outcome_prune2==-1:\n",
    "        losses += 1\n",
    "    else:\n",
    "        draws += 1\n",
    "        \n",
    "print(\"alpha beta player with pruning .vs. alpha beta player with pruning\")\n",
    "print('First-player winning percentage = {}'.format(wins/niter))\n",
    "print(\"wins: \",wins, \" losses: \",losses,\" draws: \", draws)\n",
    "\n",
    "#cf_prune = ConnectFour(3,3,3)\n",
    "##outcome_prune = cf_prune.play_game_with_display(alpha_beta_pruning, random_player)\n",
    "#outcome_prune"
   ]
  },
  {
   "cell_type": "markdown",
   "metadata": {},
   "source": [
    "### (1e) What has pruning ever done for us?\n",
    "\n",
    "Calculate the number of number of states expanded by the minimax algorithm, **with and without pruning**, to determine the minimax decision from the initial 6x7 ConnectFour board state.  This can be done in many ways, but writing out all the states by hand is **not** one of them (as you will find out!).\n",
    "\n",
    "Then compute the percent savings that you get by using alpha-beta pruning. i.e. Compute $\\frac{\\text{Number of nodes expanded with pruning}}{\\text{Number of nodes expanded with minimax}} $\n",
    "\n",
    "Write a sentence or two, commenting on the difference in number of nodes expanded by each search."
   ]
  },
  {
   "cell_type": "code",
   "execution_count": 187,
   "metadata": {},
   "outputs": [
    {
     "name": "stdout",
     "output_type": "stream",
     "text": [
      "alpha beta pruning player .vs. random player\n",
      "Number of nodes expanded with pruning:  5641\n"
     ]
    }
   ],
   "source": [
    "# Your code here.\n",
    "reset()\n",
    "cf_prune2 = ConnectFour(3,4,3)\n",
    "outcome_prune2 = cf_prune2.play_game_without_display(alpha_beta_pruning, random_player)\n",
    "print(\"alpha beta pruning player .vs. random player\")\n",
    "print(\"Number of nodes expanded with pruning: \", i)\n",
    "prune_nodes = i\n",
    "reset()\n"
   ]
  },
  {
   "cell_type": "code",
   "execution_count": 188,
   "metadata": {},
   "outputs": [
    {
     "name": "stdout",
     "output_type": "stream",
     "text": [
      "minimax player without pruning .vs. random player\n",
      "Number of nodes expanded without pruning:  391346\n"
     ]
    }
   ],
   "source": [
    "reset()\n",
    "cf_non_prune = ConnectFour(3,4,3)\n",
    "outcome_non_prune = cf_non_prune.play_game_without_display(alphabeta_player_max, random_player)\n",
    "print(\"minimax player without pruning .vs. random player\")\n",
    "print(\"Number of nodes expanded without pruning: \", i)\n",
    "non_prune_nodes = i\n",
    "reset()"
   ]
  },
  {
   "cell_type": "code",
   "execution_count": 189,
   "metadata": {},
   "outputs": [
    {
     "name": "stdout",
     "output_type": "stream",
     "text": [
      "Percent Savings =  0.014414354560925626\n"
     ]
    }
   ],
   "source": [
    "psave = prune_nodes/non_prune_nodes\n",
    "print(\"Percent Savings = \", psave)"
   ]
  },
  {
   "cell_type": "markdown",
   "metadata": {},
   "source": [
    "The difference in nodes expanded between pruning and non-pruning versions of the alpha beta algorithms is very large even for a 3x4 board with a win condition of 3. The number of nodes expanded by the pruning version .vs. a random player is always around 6,000, whereas the number of nodes expanded by the non-pruning version is always around 390,000. This yields a saving percentage of around .015 every time. "
   ]
  },
  {
   "cell_type": "markdown",
   "metadata": {},
   "source": [
    "### (2) A* Search\n",
    "\n",
    "In Part II of this project, you need to implement a player strategy to employ A* Search in order to win at ConnectFour. To test your A* player, play 10 games against the random player and 10 games against the AB pruning player. \n",
    "\n",
    "Write an explanation of this strategy's implementation and performance in comparison to the random player and the AB Pruning player from **1d**.\n",
    "\n",
    "A lot of the code that you wrote for the minimax player and the Connect Four game structure can be reused for the A* player. However, you will need to write a new utility function for A* that considers the path cost and heuristic cost.\n"
   ]
  },
  {
   "cell_type": "markdown",
   "metadata": {},
   "source": [
    "### (2a) Define a heuristic function\n",
    "Your A* player will need to use a heuristic function. You have two options for heurstics: research an existing heuristic for Connect Four, or games similar to Connect Four, and use that. Or, design your own heuristic. Write a one-paragraph description of the heuristic you're using, including a citation if you used an existing heuristic."
   ]
  },
  {
   "cell_type": "markdown",
   "metadata": {},
   "source": [
    "I chose to use a Connect four heuristic that gives the most value to moves that result in a win, the second most value to moves that create a \"7\", third most value on moves that result in a streak of nwin-1 pieces in a row, fourth most value on moves that result in a streak of nwin-2, and so on until nwin-n = 0. The \"7\" is when is when a player gets a streak of nwin-1 diagnonally that meets at a point with a streak of nwin-1 veritcally. When a player has peices set up in this way, no matter what the opposing player does, the player with this set up will have three ways to win. In most cases the opposing player will not be able to stop all three ways to win without losing, especially if the opposing player is making random moves."
   ]
  },
  {
   "cell_type": "code",
   "execution_count": 232,
   "metadata": {},
   "outputs": [],
   "source": [
    "#heuristic function where player puts most weight on moves that create:\n",
    "#1. nwin in a row, \n",
    "#2. \"7\"\n",
    "#3. nwin-1 in a row,\n",
    "#4, nwin-2 in a row\n",
    "#5, nwin-3 in a row\n",
    "#and so on \n",
    "#potentially try to create \"7\" rule (3 diagonal and three across)\n",
    "#always play in direct middle to start\n",
    "\n",
    "def astar_player(game): #same as minimax max player \n",
    "        \n",
    "    def heuristic(state, move):       \n",
    "        # your code goes here...\n",
    "        #row, col = move\n",
    "        #print(state.to_move)\n",
    "        player = state.to_move\n",
    "        \n",
    "        # create a hypothetical copy of the board, with 'move' executed\n",
    "        board = cp.deepcopy(state.board)\n",
    "        board.update({move:player})   \n",
    "            \n",
    "        #check for number of player tiles in a row (row)\n",
    "        in_a_row = 0\n",
    "        for c in range(1, game.ncol-(game.nwin-2)):\n",
    "            for r in range(1, game.nrow+1):\n",
    "                for i in range(game.nwin):\n",
    "                    if board[(r,c+i)] == player:\n",
    "                        in_a_row += 1  \n",
    "        \n",
    "        #check for number of player tiles in a row (column)\n",
    "        in_a_col = 0\n",
    "        for c in range(1, game.ncol +1):\n",
    "            for r in range(1, game.nrow-(game.nwin-2)):\n",
    "                for i in range(game.nwin):\n",
    "                    if board[(r+i,c)] == player:\n",
    "                        in_a_col += 1\n",
    "\n",
    "        #check for number of player tiles in a row (NW->SE diagonal)\n",
    "        in_a_diag1 = 0\n",
    "        for c in range(1, game.ncol-(game.nwin-2)):\n",
    "            for r in range(1, game.nrow-(game.nwin-2)):\n",
    "                for i in range(game.nwin):\n",
    "                    if board[(r+i,c+i)] == player:\n",
    "                        in_a_diag1 += 1\n",
    "                    \n",
    "        #check for number of player tiles in a row (SW->NE diagonal)\n",
    "        in_a_diag2 = 0           \n",
    "        for c in range(1, game.ncol-(game.nwin-2)):\n",
    "            for r in range(game.nwin, game.nrow+1):\n",
    "                for i in range(game.nwin-1):\n",
    "                    if board[(r-i,c+i)] == player:\n",
    "                        in_a_diag2 += 1    \n",
    "        \n",
    "        #check for a \"7\"\n",
    "        seven = 0\n",
    "        win = 0\n",
    "        if in_a_row == game.nwin-1 and in_a_diag1 == game.nwin-1:\n",
    "            seven = 10\n",
    "        elif in_a_row == game.nwin-1 and in_a_diag2 == game.nwin-1:\n",
    "            seven = 10\n",
    "        \n",
    "        if in_a_row == game.nwin or in_a_col == game.nwin or in_a_diag1 == game.nwin or in_a_diag2 == game.nwin:\n",
    "            win = 20\n",
    "        \n",
    "        return max(in_a_row, in_a_col, in_a_diag1, in_a_diag2, seven, win) if player=='R' else -max(in_a_row, in_a_col, in_a_diag1, in_a_diag2, seven, win)\n",
    "        \n",
    "        \n",
    "    def min_value(state):\n",
    "        increment()\n",
    "        if game.game_over(state):\n",
    "            return game.utility(state, state.to_move)\n",
    "        value = np.inf\n",
    "        for action in game.possible_actions(state):\n",
    "            value = min(value, max_value(game.result(action, state)) + heuristic(state, action)) \n",
    "        return value\n",
    "\n",
    "    def max_value(state):\n",
    "        increment()\n",
    "        if game.game_over(state):\n",
    "            return game.utility(state, state.to_move)\n",
    "        value = -np.inf\n",
    "        for action in game.possible_actions(state):\n",
    "            value = max(value, min_value(game.result(action, state)) + heuristic(state, action))\n",
    "        return value\n",
    "\n",
    "    def minimax_decision(state):\n",
    "        all_actions = game.possible_actions(state)\n",
    "        max_action = max(all_actions, key=lambda a: min_value(game.result(a, state)))\n",
    "        return max_action\n",
    "       \n",
    "    return minimax_decision(game.state)\n"
   ]
  },
  {
   "cell_type": "markdown",
   "metadata": {},
   "source": [
    "### (2b) Compare A* to other algorithms\n",
    "Next, play 10 games of Connect Four using your A* player and a random player and 10 games against the AB pruning player. In four or five paragraphs, report on the outcome. Did one player win more than the other? How often was the game a draw? How many moves did each player make? Were there situations where one player appeared to do better than the other? Given the outcome, are there other heuristics you would like to implement?"
   ]
  },
  {
   "cell_type": "markdown",
   "metadata": {},
   "source": [
    "The cell below takes a long time to run since the star function does not involve pruning, however the astar player always wins against the random player on a 3x4 board. Thus I am only running 5 iterations of the game. "
   ]
  },
  {
   "cell_type": "code",
   "execution_count": 254,
   "metadata": {
    "scrolled": true
   },
   "outputs": [
    {
     "name": "stdout",
     "output_type": "stream",
     "text": [
      "R B R B \n",
      "B R R B \n",
      "B R B R \n",
      "win\n",
      "win\n",
      "win\n",
      "win\n",
      "draw\n",
      "A* Player .vs. Random Player\n",
      "First-player winning percentage = 0.8\n",
      "wins:  4  losses:  0  draws:  1\n"
     ]
    }
   ],
   "source": [
    "cf_astara = ConnectFour(3,4,3)\n",
    "cf_astar_outcomea = cf_astara.play_game_with_display(astar_player, random_player)\n",
    "cf_astar_outcomea\n",
    "\n",
    "niter = 5\n",
    "wins = 0\n",
    "draws = 0\n",
    "losses = 0\n",
    "for k in range(niter):\n",
    "    cf_astar = ConnectFour(3,4,3)\n",
    "    cf_astar_outcome = cf_astar.play_game_without_display(astar_player, random_player)\n",
    "    if cf_astar_outcome==1:\n",
    "        print(\"win\")\n",
    "        wins += 1\n",
    "    elif cf_astar_outcome==-1:\n",
    "        print(\"loss\")\n",
    "        losses += 1\n",
    "    else:\n",
    "        print(\"draw\")\n",
    "        draws += 1\n",
    "        \n",
    "print(\"A* Player .vs. Random Player\")\n",
    "print('First-player winning percentage = {}'.format(wins/niter))\n",
    "print(\"wins: \",wins, \" losses: \",losses,\" draws: \", draws)"
   ]
  },
  {
   "cell_type": "markdown",
   "metadata": {},
   "source": [
    "The cell below takes a long time to run since the star function does not involve pruning, however the astar player always wins against the alpha beta player on a 3x4 board. Thus I am only running 1 iterations of this matchup on a 3x4 board and 10 on a 3x3 board. "
   ]
  },
  {
   "cell_type": "code",
   "execution_count": 252,
   "metadata": {},
   "outputs": [
    {
     "name": "stdout",
     "output_type": "stream",
     "text": [
      "R B • • \n",
      "B B • R \n",
      "B R R R \n",
      "A* Player .vs. Alpha Beta Player with Pruning\n",
      "First-player winning percentage = 1.0\n",
      "wins:  15  losses:  0  draws:  0\n"
     ]
    }
   ],
   "source": [
    "cf_astara = ConnectFour(3,4,3)\n",
    "cf_astar_outcomea = cf_astara.play_game_with_display(astar_player, alphabeta_player_max)\n",
    "cf_astar_outcomea\n",
    "\n",
    "niter = 10\n",
    "wins = 0\n",
    "draws = 0\n",
    "losses = 0\n",
    "for k in range(niter):\n",
    "    cf_astar = ConnectFour(3,3,3)\n",
    "    cf_astar_outcome = cf_astar.play_game_without_display(astar_player, alphabeta_player_max)\n",
    "    if cf_astar_outcome==1:\n",
    "        wins += 1\n",
    "    elif cf_astar_outcome==-1:\n",
    "        losses += 1\n",
    "    else:\n",
    "        draws += 1\n",
    "        \n",
    "print(\"A* Player .vs. Alpha Beta Player with Pruning\")\n",
    "print('First-player winning percentage = {}'.format(wins/niter))\n",
    "print(\"wins: \",wins, \" losses: \",losses,\" draws: \", draws)"
   ]
  },
  {
   "cell_type": "code",
   "execution_count": 166,
   "metadata": {},
   "outputs": [
    {
     "name": "stdout",
     "output_type": "stream",
     "text": [
      "alpha beta pruning player .vs. random player\n",
      "Number of nodes expanded with pruning:  5333\n",
      "minimax player without pruning .vs. random player\n",
      "Number of nodes expanded without pruning:  391329\n",
      "astar .vs. random player\n",
      "Number of nodes expanded with astar:  384514\n"
     ]
    }
   ],
   "source": [
    "# Your code here.\n",
    "# Your code here.\n",
    "reset()\n",
    "cf_prune2 = ConnectFour(3,4,3)\n",
    "outcome_prune2 = cf_prune2.play_game_without_display(alpha_beta_pruning, random_player)\n",
    "print(\"alpha beta pruning player .vs. random player\")\n",
    "print(\"Number of nodes expanded with pruning: \", i)\n",
    "prune_nodes = i\n",
    "reset()\n",
    "\n",
    "reset()\n",
    "cf_non_prune = ConnectFour(3,4,3)\n",
    "outcome_non_prune = cf_non_prune.play_game_without_display(alphabeta_player_max, random_player)\n",
    "print(\"minimax player without pruning .vs. random player\")\n",
    "print(\"Number of nodes expanded without pruning: \", i)\n",
    "non_prune_nodes = i\n",
    "reset()\n",
    "\n",
    "reset()\n",
    "cf_astar = ConnectFour(3,4,3)\n",
    "outcome_cf_astar = cf_astar.play_game_without_display(astar_player, random_player)\n",
    "print(\"astar .vs. random player\")\n",
    "print(\"Number of nodes expanded with astar: \", i)\n",
    "astar_nodes = i\n",
    "reset()\n"
   ]
  },
  {
   "cell_type": "markdown",
   "metadata": {},
   "source": [
    "Generally, my A* player was very successful against both random players and alpha beta players without the heuristic. My A* player was the same as the alpha beta player except it also included an added heuristic function. This heuristic function targeted moves where the player could make a \"7\" pattern (nwin-1 column-wise meeting at a point with nwin-1 diagonal-wise), and also moves that were as close to nwin as possible. \n",
    "\n",
    "When I matched up my A* player with a random player the outcome was almost always a win for the A* player on a 3x4 board with the win condition set to 3. Very occasionally there would be a draw which is due to the small board. If I were to run A* on a 6x7 board with a win condition of 4, I do not believe draws would ever happen, however, I would need a supercomputer to run a 6x7 game in a reasonable time. \n",
    "\n",
    "When I matched up my A* player with a regular alpha beta player without the added heuristic, the A* player actually won every single time on a 3x4 board with a win condition of 3 and on a 3x3 board with a win condition of 3. I assume this trend would follow on boards that are much larger due to the fact that the A* heuristic adds an additional incentive to moves that set the A* player up for success in the future rounds. Since the A* places a heavy incentive on moves that create a \"7\", the A* player is able to gain an upper hand on the alpha beta player due to the fact that it is not aware of this strategy. Even though the alpha beta player is successful against a random player, it falls short against the A* player due to the added heuristic function. \n",
    "\n",
    "In terms of moves made by each player, the games where the A* player was playing a random player seemed to end in the same amount of moves than in cases where the A* player was matched up against a regular alpha beta player. I believe this is simply due to the small size of the board. With a larger board the random player would most likely lose in a far less amount of turns than the regular alpha beta player as there are many more random moves that would not be beneficial to the random player. The regular alpha beta player however would give the A* player a run for its money on a larger board and would most likely take many more turns to eventually lose. \n",
    "\n",
    "In terms of nodes expanded, the A* player generally expanded the same amount of nodes as the regular alpha beta player. This makes sense because I designed the A* heuristic function to scan the entire board and look for the best action at each state similar to the regular alpha beta player's utility function. \n",
    "\n",
    "Although this heuristics seemed to work very well on 3x3 and 3x4 boards with win conditions of 3, I would love to implement a heuristic that also implements pruning since it is impossible to test this A* player on large boards without a super computer. I believe that with the same heuristic on a larger scale, the A* player would be unbeatable and untie-able against random players and regualar alpha beta players. However, on the other hand, I do believe it is necessary to explore every nodes and avoid cut offs to have the most successful heuristic function for Connect Four. \n"
   ]
  },
  {
   "cell_type": "code",
   "execution_count": null,
   "metadata": {},
   "outputs": [],
   "source": []
  }
 ],
 "metadata": {
  "kernelspec": {
   "display_name": "Python 3",
   "language": "python",
   "name": "python3"
  },
  "language_info": {
   "codemirror_mode": {
    "name": "ipython",
    "version": 3
   },
   "file_extension": ".py",
   "mimetype": "text/x-python",
   "name": "python",
   "nbconvert_exporter": "python",
   "pygments_lexer": "ipython3",
   "version": "3.8.5"
  }
 },
 "nbformat": 4,
 "nbformat_minor": 4
}
